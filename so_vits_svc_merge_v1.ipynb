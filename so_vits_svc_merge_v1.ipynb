{
  "nbformat": 4,
  "nbformat_minor": 0,
  "metadata": {
    "colab": {
      "provenance": [],
      "authorship_tag": "ABX9TyMsn56j0ggUf72Z0AcKpZH4",
      "include_colab_link": true
    },
    "kernelspec": {
      "name": "python3",
      "display_name": "Python 3"
    },
    "language_info": {
      "name": "python"
    }
  },
  "cells": [
    {
      "cell_type": "markdown",
      "metadata": {
        "id": "view-in-github",
        "colab_type": "text"
      },
      "source": [
        "<a href=\"https://colab.research.google.com/github/diontimmer/so-vits-svc-merge/blob/main/so_vits_svc_merge_v1.ipynb\" target=\"_parent\"><img src=\"https://colab.research.google.com/assets/colab-badge.svg\" alt=\"Open In Colab\"/></a>"
      ]
    },
    {
      "cell_type": "markdown",
      "source": [
        "# so-vits-svc-merge v1 by Dion Timmer\n",
        "[(github)](https://github.com/diontimmer/)<br>\n",
        "This simple function allows you to average the weights of two svc models creating a merged model and a (hopefully) awesome new voice.<br>\n",
        "The ratio determines the amount of influence of model_b to model_a.\n",
        "\n",
        "Model folders should be in the structure:<br>\n",
        "<br>\n",
        "**MODEL_FOLDER**<br>\n",
        "└─── config.json<br>\n",
        "└─── G_***.pth<br>\n"
      ],
      "metadata": {
        "id": "4Fo3gCOJudIg"
      }
    },
    {
      "cell_type": "code",
      "source": [
        "#@title Mount Drive\n",
        "from google.colab import drive\n",
        "drive.mount('/content/drive')"
      ],
      "metadata": {
        "colab": {
          "base_uri": "https://localhost:8080/"
        },
        "cellView": "form",
        "id": "cMWUvICHvUlE",
        "outputId": "bba57722-d027-408f-8ca9-51969e34bd2a"
      },
      "execution_count": 5,
      "outputs": [
        {
          "output_type": "stream",
          "name": "stdout",
          "text": [
            "Drive already mounted at /content/drive; to attempt to forcibly remount, call drive.mount(\"/content/drive\", force_remount=True).\n"
          ]
        }
      ]
    },
    {
      "cell_type": "code",
      "execution_count": 4,
      "metadata": {
        "cellView": "form",
        "id": "kIsS1_l5uYoA"
      },
      "outputs": [],
      "source": [
        "#@title Setup\n",
        "import torch\n",
        "import os\n",
        "\n",
        "if not os.path.exists('merges'):\n",
        "  os.makedirs('merges')\n",
        "\n",
        "def ratio_merge(model_a, model_b, out_path = 'merges', speakername=None, alpha=0.5, device='cuda'):\n",
        "\n",
        "    for file in os.listdir(model_a):\n",
        "        if file.endswith('.pth') and file.startswith('G'):\n",
        "            model_a_pth = os.path.join(model_a, file)\n",
        "        elif file == 'config.json':\n",
        "            model_a_config = os.path.join(model_a, file)\n",
        "\n",
        "    for file in os.listdir(model_b):\n",
        "        if file.endswith('.pth') and file.startswith('G'):\n",
        "            model_b_pth = os.path.join(model_b, file)\n",
        "        elif file == 'config.json':\n",
        "            model_b_config = os.path.join(model_b, file)\n",
        "\n",
        "\n",
        "    # Load Models\n",
        "    model_0 = torch.load(model_a_pth, map_location=torch.device('cuda'))\n",
        "    model_1 = torch.load(model_b_pth, map_location=torch.device('cuda'))\n",
        "    theta_0 = model_0['model']\n",
        "    theta_1 = model_1['model']\n",
        "\n",
        "    # Merging Common Weights\n",
        "    for key in theta_0.keys():\n",
        "        if key in theta_1:\n",
        "            theta_0[key] = (1 - alpha) * theta_0[key] + alpha * theta_1[key]\n",
        "\n",
        "    # Merging Distinct Weights\n",
        "    for key in theta_1.keys():\n",
        "        if key not in theta_0:\n",
        "            theta_0[key] = theta_1[key]\n",
        "\n",
        "    if speakername is not None:\n",
        "        out_path = os.path.join(out_path, speakername)\n",
        "        if not os.path.exists(out_path):\n",
        "            os.makedirs(out_path)\n",
        "        torch.save(model_0, f'{out_path}/G_merged.pth')\n",
        "        # copy model_a_config json to out_path and change the \"spk\" dict to {SPEAKERNAME: 0}\n",
        "        with open(model_a_config, 'r') as f:\n",
        "            config = json.load(f)\n",
        "            config['spk'] = {speakername: 0}\n",
        "        with open(f'{out_path}/config.json', 'w') as f:\n",
        "            json.dump(config, f, indent=4)\n",
        "\n",
        "    return model_0"
      ]
    },
    {
      "cell_type": "code",
      "source": [
        "#@title Parameters\n",
        "model_a = \"/content/drive/MyDrive/AI/Models/Drake\" #@param {type:\"string\"}\n",
        "model_b = \"/content/drive/MyDrive/AI/Models/Juice\" #@param {type:\"string\"}\n",
        "out_path = 'merges' #@param {type:\"string\"}\n",
        "speakername = 'DrakeJuice' #@param {type:\"string\"}\n",
        "alpha = 0.5 #@param {type:\"slider\", min:0, max:1, step:0.01}\n",
        "device = \"cuda\" #@param [\"cuda\", \"cpu\"]\n"
      ],
      "metadata": {
        "cellView": "form",
        "id": "IzlC0qXhw4jX"
      },
      "execution_count": null,
      "outputs": []
    },
    {
      "cell_type": "code",
      "source": [
        "#@title Run\n",
        "ratio_merge(model_a, model_b, out_path, speakername, alpha, device)\n",
        "print('Process Finished!')"
      ],
      "metadata": {
        "id": "3gYtlc81yMUS"
      },
      "execution_count": null,
      "outputs": []
    }
  ]
}